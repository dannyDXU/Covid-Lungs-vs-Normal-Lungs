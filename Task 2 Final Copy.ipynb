{
 "cells": [
  {
   "cell_type": "markdown",
   "metadata": {
    "nbpresent": {
     "id": "1d234e3f-af8b-4757-83f3-241b04b7a511"
    }
   },
   "source": [
    "# Class Challenge: Image Classification of COVID-19 X-rays\n",
    "# Task 2 [Total points: 30]"
   ]
  },
  {
   "cell_type": "markdown",
   "metadata": {
    "nbpresent": {
     "id": "b07b9992-b592-4871-9f9a-3b0ae5fa8b5f"
    }
   },
   "source": [
    "## Setup\n",
    "\n",
    "* This assignment involves the following packages: 'matplotlib', 'numpy', and 'sklearn'. \n",
    "\n",
    "* If you are using conda, use the following commands to install the above packages:<br>\n",
    "```shell\n",
    "conda install matplotlib\n",
    "conda install numpy\n",
    "conda install -c anaconda scikit-learn\n",
    "```\n",
    "\n",
    "* If you are using pip, use use the following commands to install the above packages: <br> \n",
    "```shell\n",
    "pip install matplotlib\n",
    "pip install numpy\n",
    "pip install sklearn\n",
    "```"
   ]
  },
  {
   "cell_type": "markdown",
   "metadata": {
    "nbpresent": {
     "id": "5516f610-f00c-43c3-bf19-4cf7ab9c089f"
    }
   },
   "source": [
    "## Data\n",
    "\n",
    "Please download the data using the following link: [COVID-19](https://drive.google.com/file/d/1Y88tgqpQ1Pjko_7rntcPowOJs_QNOrJ-/view). \n",
    "\n",
    "* After downloading 'Covid_Data_GradientCrescent.zip', unzip the file and you should see the following data structure:\n",
    "\n",
    "\n",
    "|--all<br>\n",
    "|--------train<br>\n",
    "|--------test<br>\n",
    "|--two<br>\n",
    "|--------train<br>\n",
    "|--------test<br>\n",
    "\n",
    "\n",
    "* Put the 'all' folder, the 'two' folder and this python notebook in the **same directory** so that the following code can correctly locate the data.  \n",
    "\n"
   ]
  },
  {
   "cell_type": "markdown",
   "metadata": {
    "nbpresent": {
     "id": "66140980-2aa4-457f-b1df-74c10c234cc2"
    }
   },
   "source": [
    "## [20 points] Multi-class Classification"
   ]
  },
  {
   "cell_type": "code",
   "execution_count": 1,
   "metadata": {
    "nbpresent": {
     "id": "5e05f980-3d14-4367-b3d1-664249145b13"
    },
    "scrolled": true
   },
   "outputs": [
    {
     "data": {
      "text/plain": [
       "'2.7.0'"
      ]
     },
     "execution_count": 1,
     "metadata": {},
     "output_type": "execute_result"
    }
   ],
   "source": [
    "import os\n",
    "\n",
    "import tensorflow as tf\n",
    "import numpy as np\n",
    "import matplotlib.pyplot as plt\n",
    "from tensorflow.keras.preprocessing.image import ImageDataGenerator\n",
    "\n",
    "os.environ['OMP_NUM_THREADS'] = '1'\n",
    "os.environ['CUDA_VISIBLE_DEVICES'] = '-1'\n",
    "tf.__version__"
   ]
  },
  {
   "cell_type": "markdown",
   "metadata": {
    "nbpresent": {
     "id": "66140980-2aa4-457f-b1df-74c10c234cc2"
    }
   },
   "source": [
    "#### Load Image Data"
   ]
  },
  {
   "cell_type": "code",
   "execution_count": 2,
   "metadata": {
    "nbpresent": {
     "id": "58317664-8da3-4283-b3e5-35721687e7ab"
    }
   },
   "outputs": [],
   "source": [
    "DATA_LIST = os.listdir('all/train')\n",
    "DATASET_PATH  = 'all/train'\n",
    "TEST_DIR =  'all/test'\n",
    "IMAGE_SIZE    = (224, 224)\n",
    "NUM_CLASSES   = len(DATA_LIST)\n",
    "BATCH_SIZE    = 10  # try reducing batch size or freeze more layers if your GPU runs out of memory\n",
    "NUM_EPOCHS    = 100\n",
    "LEARNING_RATE = 0.0001 # start off with high rate first 0.001 and experiment with reducing it gradually "
   ]
  },
  {
   "cell_type": "markdown",
   "metadata": {
    "nbpresent": {
     "id": "66140980-2aa4-457f-b1df-74c10c234cc2"
    }
   },
   "source": [
    "#### Generate Training and Validation Batches"
   ]
  },
  {
   "cell_type": "code",
   "execution_count": 3,
   "metadata": {
    "nbpresent": {
     "id": "71760e29-2b08-4259-93f1-ebe68cd74a6d"
    }
   },
   "outputs": [
    {
     "name": "stdout",
     "output_type": "stream",
     "text": [
      "Found 216 images belonging to 4 classes.\n",
      "Found 54 images belonging to 4 classes.\n"
     ]
    },
    {
     "name": "stderr",
     "output_type": "stream",
     "text": [
      "C:\\Users\\kpete\\anaconda3\\lib\\site-packages\\keras_preprocessing\\image\\image_data_generator.py:342: UserWarning: This ImageDataGenerator specifies `zca_whitening` which overrides setting of`featurewise_std_normalization`.\n",
      "  warnings.warn('This ImageDataGenerator specifies '\n"
     ]
    }
   ],
   "source": [
    "train_datagen = ImageDataGenerator(rescale=1./255,rotation_range=50,featurewise_center = True,\n",
    "                                   featurewise_std_normalization = True,width_shift_range=0.2,\n",
    "                                   height_shift_range=0.2,shear_range=0.25,zoom_range=0.1,\n",
    "                                   zca_whitening = True,channel_shift_range = 20,\n",
    "                                   horizontal_flip = True,vertical_flip = True,\n",
    "                                   validation_split = 0.2,fill_mode='constant')\n",
    "\n",
    "\n",
    "train_batches = train_datagen.flow_from_directory(DATASET_PATH,target_size=IMAGE_SIZE,\n",
    "                                                  shuffle=True,batch_size=BATCH_SIZE,\n",
    "                                                  subset = \"training\",seed=42,\n",
    "                                                  class_mode=\"categorical\")\n",
    "\n",
    "valid_batches = train_datagen.flow_from_directory(DATASET_PATH,target_size=IMAGE_SIZE,\n",
    "                                                  shuffle=True,batch_size=BATCH_SIZE,\n",
    "                                                  subset = \"validation\",\n",
    "                                                  seed=42,class_mode=\"categorical\")"
   ]
  },
  {
   "cell_type": "markdown",
   "metadata": {
    "nbpresent": {
     "id": "66140980-2aa4-457f-b1df-74c10c234cc2"
    }
   },
   "source": [
    "#### [10 points] Build Model\n",
    "Hint: Starting from a pre-trained model typically helps performance on a new task, e.g. starting with weights obtained by training on ImageNet. "
   ]
  },
  {
   "cell_type": "code",
   "execution_count": 4,
   "metadata": {
    "nbpresent": {
     "id": "5c52eeb2-1092-4d45-9e16-02219c82cb5e"
    }
   },
   "outputs": [
    {
     "name": "stdout",
     "output_type": "stream",
     "text": [
      "Model: \"sequential\"\n",
      "_________________________________________________________________\n",
      " Layer (type)                Output Shape              Param #   \n",
      "=================================================================\n",
      " vgg16 (Functional)          (None, 7, 7, 512)         14714688  \n",
      "                                                                 \n",
      " flatten (Flatten)           (None, 25088)             0         \n",
      "                                                                 \n",
      " feature_dense (Dense)       (None, 256)               6422784   \n",
      "                                                                 \n",
      " dense_1 (Dense)             (None, 4)                 1028      \n",
      "                                                                 \n",
      "=================================================================\n",
      "Total params: 21,138,500\n",
      "Trainable params: 6,423,812\n",
      "Non-trainable params: 14,714,688\n",
      "_________________________________________________________________\n"
     ]
    }
   ],
   "source": [
    "from tensorflow.keras.models import Sequential\n",
    "from tensorflow.keras.layers import Dense, DenseFeatures, Dropout, Conv2D, MaxPool2D, Flatten\n",
    "\n",
    "vggmodel = tf.keras.applications.vgg16.VGG16(\n",
    "    weights=\"imagenet\", \n",
    "    input_shape=(224, 224, 3),\n",
    "    include_top=False \n",
    ")  \n",
    "vggmodel.trainable = False\n",
    "\n",
    "type(vggmodel)\n",
    "\n",
    "model = Sequential(\n",
    "    [\n",
    "        vggmodel,\n",
    "        Flatten(),\n",
    "        Dense(units = 256,activation='relu', name = 'feature_dense'),\n",
    "        Dense(units = 4, activation = 'softmax', name = 'dense_1')\n",
    "    ]\n",
    ")\n",
    "\n",
    "opt = tf.keras.optimizers.Adam(learning_rate=LEARNING_RATE)\n",
    "model.compile(optimizer = opt, loss=tf.keras.losses.BinaryCrossentropy(), metrics=['accuracy'])\n",
    "\n",
    "model.summary()\n"
   ]
  },
  {
   "cell_type": "markdown",
   "metadata": {
    "nbpresent": {
     "id": "66140980-2aa4-457f-b1df-74c10c234cc2"
    }
   },
   "source": [
    "#### [5 points] Train Model"
   ]
  },
  {
   "cell_type": "code",
   "execution_count": 5,
   "metadata": {
    "nbpresent": {
     "id": "cdb90d24-6a23-4969-8138-f37e7050062d"
    }
   },
   "outputs": [
    {
     "name": "stdout",
     "output_type": "stream",
     "text": [
      "22\n",
      "6\n"
     ]
    },
    {
     "name": "stderr",
     "output_type": "stream",
     "text": [
      "C:\\Users\\kpete\\AppData\\Local\\Temp/ipykernel_14888/2354724368.py:7: UserWarning: `Model.fit_generator` is deprecated and will be removed in a future version. Please use `Model.fit`, which supports generators.\n",
      "  history = model.fit_generator(steps_per_epoch = STEP_SIZE_TRAIN, generator = train_batches, validation_data = valid_batches, validation_steps = STEP_SIZE_VALID, epochs=115\n",
      "C:\\Users\\kpete\\anaconda3\\lib\\site-packages\\keras_preprocessing\\image\\image_data_generator.py:720: UserWarning: This ImageDataGenerator specifies `featurewise_center`, but it hasn't been fit on any training data. Fit it first by calling `.fit(numpy_data)`.\n",
      "  warnings.warn('This ImageDataGenerator specifies '\n",
      "C:\\Users\\kpete\\anaconda3\\lib\\site-packages\\keras_preprocessing\\image\\image_data_generator.py:739: UserWarning: This ImageDataGenerator specifies `zca_whitening`, but it hasn't been fit on any training data. Fit it first by calling `.fit(numpy_data)`.\n",
      "  warnings.warn('This ImageDataGenerator specifies '\n"
     ]
    },
    {
     "name": "stdout",
     "output_type": "stream",
     "text": [
      "Epoch 1/115\n",
      "21/21 [==============================] - 35s 2s/step - loss: 0.5787 - accuracy: 0.3544 - val_loss: 0.5472 - val_accuracy: 0.4000\n",
      "Epoch 2/115\n",
      "21/21 [==============================] - 32s 2s/step - loss: 0.4862 - accuracy: 0.4951 - val_loss: 0.4437 - val_accuracy: 0.5600\n",
      "Epoch 3/115\n",
      "21/21 [==============================] - 33s 2s/step - loss: 0.4641 - accuracy: 0.4757 - val_loss: 0.4340 - val_accuracy: 0.6000\n",
      "Epoch 4/115\n",
      "21/21 [==============================] - 33s 2s/step - loss: 0.4398 - accuracy: 0.5485 - val_loss: 0.4416 - val_accuracy: 0.5000\n",
      "Epoch 5/115\n",
      "21/21 [==============================] - 33s 2s/step - loss: 0.4235 - accuracy: 0.6068 - val_loss: 0.4346 - val_accuracy: 0.5600\n",
      "Epoch 6/115\n",
      "21/21 [==============================] - 32s 2s/step - loss: 0.4100 - accuracy: 0.5922 - val_loss: 0.4048 - val_accuracy: 0.5400\n",
      "Epoch 7/115\n",
      "21/21 [==============================] - 33s 2s/step - loss: 0.3983 - accuracy: 0.6214 - val_loss: 0.4100 - val_accuracy: 0.6200\n",
      "Epoch 8/115\n",
      "21/21 [==============================] - 31s 1s/step - loss: 0.4019 - accuracy: 0.5922 - val_loss: 0.3694 - val_accuracy: 0.6400\n",
      "Epoch 9/115\n",
      "21/21 [==============================] - 17s 784ms/step - loss: 0.3588 - accuracy: 0.6942 - val_loss: 0.4114 - val_accuracy: 0.5800\n",
      "Epoch 10/115\n",
      "21/21 [==============================] - 17s 795ms/step - loss: 0.3682 - accuracy: 0.6810 - val_loss: 0.3648 - val_accuracy: 0.5200\n",
      "Epoch 11/115\n",
      "21/21 [==============================] - 17s 786ms/step - loss: 0.3720 - accuracy: 0.6311 - val_loss: 0.4536 - val_accuracy: 0.5200\n",
      "Epoch 12/115\n",
      "21/21 [==============================] - 16s 784ms/step - loss: 0.3656 - accuracy: 0.6214 - val_loss: 0.3436 - val_accuracy: 0.6200\n",
      "Epoch 13/115\n",
      "21/21 [==============================] - 17s 793ms/step - loss: 0.3405 - accuracy: 0.6990 - val_loss: 0.4215 - val_accuracy: 0.5200\n",
      "Epoch 14/115\n",
      "21/21 [==============================] - 17s 789ms/step - loss: 0.3490 - accuracy: 0.6845 - val_loss: 0.3581 - val_accuracy: 0.5600\n",
      "Epoch 15/115\n",
      "21/21 [==============================] - 16s 785ms/step - loss: 0.3234 - accuracy: 0.7136 - val_loss: 0.3121 - val_accuracy: 0.6600\n",
      "Epoch 16/115\n",
      "21/21 [==============================] - 17s 814ms/step - loss: 0.3117 - accuracy: 0.7282 - val_loss: 0.3373 - val_accuracy: 0.6400\n",
      "Epoch 17/115\n",
      "21/21 [==============================] - 17s 807ms/step - loss: 0.3424 - accuracy: 0.6699 - val_loss: 0.3342 - val_accuracy: 0.7000\n",
      "Epoch 18/115\n",
      "21/21 [==============================] - 17s 804ms/step - loss: 0.3299 - accuracy: 0.6942 - val_loss: 0.3348 - val_accuracy: 0.6600\n",
      "Epoch 19/115\n",
      "21/21 [==============================] - 17s 809ms/step - loss: 0.3321 - accuracy: 0.7238 - val_loss: 0.3485 - val_accuracy: 0.6000\n",
      "Epoch 20/115\n",
      "21/21 [==============================] - 17s 796ms/step - loss: 0.3098 - accuracy: 0.6845 - val_loss: 0.3333 - val_accuracy: 0.6800\n",
      "Epoch 21/115\n",
      "21/21 [==============================] - 17s 798ms/step - loss: 0.3110 - accuracy: 0.7379 - val_loss: 0.2871 - val_accuracy: 0.8200\n",
      "Epoch 22/115\n",
      "21/21 [==============================] - 17s 792ms/step - loss: 0.3233 - accuracy: 0.6990 - val_loss: 0.3514 - val_accuracy: 0.5800\n",
      "Epoch 23/115\n",
      "21/21 [==============================] - 17s 812ms/step - loss: 0.3404 - accuracy: 0.7087 - val_loss: 0.3430 - val_accuracy: 0.6800\n",
      "Epoch 24/115\n",
      "21/21 [==============================] - 17s 815ms/step - loss: 0.3019 - accuracy: 0.7136 - val_loss: 0.3426 - val_accuracy: 0.7000\n",
      "Epoch 25/115\n",
      "21/21 [==============================] - 17s 830ms/step - loss: 0.2968 - accuracy: 0.7476 - val_loss: 0.2731 - val_accuracy: 0.7200\n",
      "Epoch 26/115\n",
      "21/21 [==============================] - 18s 837ms/step - loss: 0.3109 - accuracy: 0.7087 - val_loss: 0.3077 - val_accuracy: 0.6400\n",
      "Epoch 27/115\n",
      "21/21 [==============================] - 17s 805ms/step - loss: 0.3113 - accuracy: 0.7136 - val_loss: 0.3674 - val_accuracy: 0.6000\n",
      "Epoch 28/115\n",
      "21/21 [==============================] - 17s 802ms/step - loss: 0.3085 - accuracy: 0.7039 - val_loss: 0.3366 - val_accuracy: 0.6200\n",
      "Epoch 29/115\n",
      "21/21 [==============================] - 17s 802ms/step - loss: 0.3169 - accuracy: 0.7379 - val_loss: 0.3146 - val_accuracy: 0.7000\n",
      "Epoch 30/115\n",
      "21/21 [==============================] - 17s 805ms/step - loss: 0.2979 - accuracy: 0.7524 - val_loss: 0.3141 - val_accuracy: 0.7000\n",
      "Epoch 31/115\n",
      "21/21 [==============================] - 17s 809ms/step - loss: 0.2980 - accuracy: 0.7427 - val_loss: 0.3212 - val_accuracy: 0.6400\n",
      "Epoch 32/115\n",
      "21/21 [==============================] - 17s 822ms/step - loss: 0.2720 - accuracy: 0.7621 - val_loss: 0.3214 - val_accuracy: 0.6800\n",
      "Epoch 33/115\n",
      "21/21 [==============================] - 17s 798ms/step - loss: 0.2925 - accuracy: 0.6990 - val_loss: 0.3050 - val_accuracy: 0.7400\n",
      "Epoch 34/115\n",
      "21/21 [==============================] - 17s 784ms/step - loss: 0.3154 - accuracy: 0.7233 - val_loss: 0.3129 - val_accuracy: 0.6800\n",
      "Epoch 35/115\n",
      "21/21 [==============================] - 17s 789ms/step - loss: 0.2709 - accuracy: 0.7621 - val_loss: 0.3429 - val_accuracy: 0.6800\n",
      "Epoch 36/115\n",
      "21/21 [==============================] - 17s 797ms/step - loss: 0.2880 - accuracy: 0.7087 - val_loss: 0.3454 - val_accuracy: 0.7200\n",
      "Epoch 37/115\n",
      "21/21 [==============================] - 17s 796ms/step - loss: 0.2685 - accuracy: 0.7670 - val_loss: 0.2865 - val_accuracy: 0.7400\n",
      "Epoch 38/115\n",
      "21/21 [==============================] - 17s 803ms/step - loss: 0.2794 - accuracy: 0.7476 - val_loss: 0.3845 - val_accuracy: 0.6600\n",
      "Epoch 39/115\n",
      "21/21 [==============================] - 17s 827ms/step - loss: 0.2966 - accuracy: 0.7427 - val_loss: 0.3411 - val_accuracy: 0.6800\n",
      "Epoch 40/115\n",
      "21/21 [==============================] - 18s 836ms/step - loss: 0.2876 - accuracy: 0.7379 - val_loss: 0.3348 - val_accuracy: 0.6000\n",
      "Epoch 41/115\n",
      "21/21 [==============================] - 17s 810ms/step - loss: 0.2976 - accuracy: 0.7476 - val_loss: 0.3855 - val_accuracy: 0.6000\n",
      "Epoch 42/115\n",
      "21/21 [==============================] - 17s 815ms/step - loss: 0.2746 - accuracy: 0.7143 - val_loss: 0.3556 - val_accuracy: 0.6200\n",
      "Epoch 43/115\n",
      "21/21 [==============================] - 17s 792ms/step - loss: 0.2752 - accuracy: 0.7379 - val_loss: 0.3032 - val_accuracy: 0.7000\n",
      "Epoch 44/115\n",
      "21/21 [==============================] - 17s 789ms/step - loss: 0.2870 - accuracy: 0.6990 - val_loss: 0.3535 - val_accuracy: 0.6600\n",
      "Epoch 45/115\n",
      "21/21 [==============================] - 17s 801ms/step - loss: 0.2879 - accuracy: 0.7427 - val_loss: 0.3311 - val_accuracy: 0.6800\n",
      "Epoch 46/115\n",
      "21/21 [==============================] - 17s 795ms/step - loss: 0.2959 - accuracy: 0.7427 - val_loss: 0.3693 - val_accuracy: 0.6200\n",
      "Epoch 47/115\n",
      "21/21 [==============================] - 17s 836ms/step - loss: 0.2735 - accuracy: 0.7718 - val_loss: 0.3264 - val_accuracy: 0.6200\n",
      "Epoch 48/115\n",
      "21/21 [==============================] - 17s 810ms/step - loss: 0.2694 - accuracy: 0.7670 - val_loss: 0.3000 - val_accuracy: 0.6600\n",
      "Epoch 49/115\n",
      "21/21 [==============================] - 17s 806ms/step - loss: 0.2544 - accuracy: 0.7718 - val_loss: 0.2897 - val_accuracy: 0.7200\n",
      "Epoch 50/115\n",
      "21/21 [==============================] - 17s 810ms/step - loss: 0.2592 - accuracy: 0.7816 - val_loss: 0.3463 - val_accuracy: 0.6200\n",
      "Epoch 51/115\n",
      "21/21 [==============================] - 16s 781ms/step - loss: 0.2683 - accuracy: 0.7573 - val_loss: 0.3521 - val_accuracy: 0.6200\n",
      "Epoch 52/115\n",
      "21/21 [==============================] - 17s 788ms/step - loss: 0.2581 - accuracy: 0.7621 - val_loss: 0.3392 - val_accuracy: 0.5800\n",
      "Epoch 53/115\n",
      "21/21 [==============================] - 17s 797ms/step - loss: 0.2784 - accuracy: 0.7573 - val_loss: 0.3120 - val_accuracy: 0.7000\n",
      "Epoch 54/115\n",
      "21/21 [==============================] - 17s 793ms/step - loss: 0.2567 - accuracy: 0.7573 - val_loss: 0.2869 - val_accuracy: 0.7000\n",
      "Epoch 55/115\n",
      "21/21 [==============================] - 17s 802ms/step - loss: 0.2559 - accuracy: 0.8058 - val_loss: 0.3142 - val_accuracy: 0.6400\n",
      "Epoch 56/115\n",
      "21/21 [==============================] - 17s 831ms/step - loss: 0.2779 - accuracy: 0.7379 - val_loss: 0.3769 - val_accuracy: 0.6400\n",
      "Epoch 57/115\n",
      "21/21 [==============================] - 17s 824ms/step - loss: 0.2658 - accuracy: 0.7330 - val_loss: 0.3199 - val_accuracy: 0.6600\n"
     ]
    },
    {
     "name": "stdout",
     "output_type": "stream",
     "text": [
      "Epoch 58/115\n",
      "21/21 [==============================] - 18s 837ms/step - loss: 0.2664 - accuracy: 0.7476 - val_loss: 0.3554 - val_accuracy: 0.6000\n",
      "Epoch 59/115\n",
      "21/21 [==============================] - 17s 791ms/step - loss: 0.2557 - accuracy: 0.7816 - val_loss: 0.3455 - val_accuracy: 0.6400\n",
      "Epoch 60/115\n",
      "21/21 [==============================] - 17s 788ms/step - loss: 0.2565 - accuracy: 0.7961 - val_loss: 0.3253 - val_accuracy: 0.7000\n",
      "Epoch 61/115\n",
      "21/21 [==============================] - 17s 787ms/step - loss: 0.2587 - accuracy: 0.7816 - val_loss: 0.3100 - val_accuracy: 0.6800\n",
      "Epoch 62/115\n",
      "21/21 [==============================] - 17s 798ms/step - loss: 0.2711 - accuracy: 0.7524 - val_loss: 0.3178 - val_accuracy: 0.6600\n",
      "Epoch 63/115\n",
      "21/21 [==============================] - 17s 791ms/step - loss: 0.2664 - accuracy: 0.7767 - val_loss: 0.2809 - val_accuracy: 0.7200\n",
      "Epoch 64/115\n",
      "21/21 [==============================] - 17s 789ms/step - loss: 0.2713 - accuracy: 0.7670 - val_loss: 0.2823 - val_accuracy: 0.7600\n",
      "Epoch 65/115\n",
      "21/21 [==============================] - 17s 801ms/step - loss: 0.2611 - accuracy: 0.7573 - val_loss: 0.3224 - val_accuracy: 0.6400\n",
      "Epoch 66/115\n",
      "21/21 [==============================] - 17s 793ms/step - loss: 0.2524 - accuracy: 0.7767 - val_loss: 0.3097 - val_accuracy: 0.7400\n",
      "Epoch 67/115\n",
      "21/21 [==============================] - 17s 796ms/step - loss: 0.2581 - accuracy: 0.7718 - val_loss: 0.3135 - val_accuracy: 0.6600\n",
      "Epoch 68/115\n",
      "21/21 [==============================] - 17s 792ms/step - loss: 0.2744 - accuracy: 0.7573 - val_loss: 0.3217 - val_accuracy: 0.6800\n",
      "Epoch 69/115\n",
      "21/21 [==============================] - 17s 790ms/step - loss: 0.2512 - accuracy: 0.7524 - val_loss: 0.3605 - val_accuracy: 0.6000\n",
      "Epoch 70/115\n",
      "21/21 [==============================] - 17s 789ms/step - loss: 0.2601 - accuracy: 0.8010 - val_loss: 0.3053 - val_accuracy: 0.6600\n",
      "Epoch 71/115\n",
      "21/21 [==============================] - 17s 800ms/step - loss: 0.2659 - accuracy: 0.7810 - val_loss: 0.2756 - val_accuracy: 0.8200\n",
      "Epoch 72/115\n",
      "21/21 [==============================] - 17s 803ms/step - loss: 0.2634 - accuracy: 0.7476 - val_loss: 0.3187 - val_accuracy: 0.5800\n",
      "Epoch 73/115\n",
      "21/21 [==============================] - 17s 788ms/step - loss: 0.2396 - accuracy: 0.7913 - val_loss: 0.2673 - val_accuracy: 0.7800\n",
      "Epoch 74/115\n",
      "21/21 [==============================] - 17s 791ms/step - loss: 0.2519 - accuracy: 0.8107 - val_loss: 0.2766 - val_accuracy: 0.7800\n",
      "Epoch 75/115\n",
      "21/21 [==============================] - 17s 799ms/step - loss: 0.2586 - accuracy: 0.7905 - val_loss: 0.3119 - val_accuracy: 0.7000\n",
      "Epoch 76/115\n",
      "21/21 [==============================] - 17s 791ms/step - loss: 0.2653 - accuracy: 0.7573 - val_loss: 0.3069 - val_accuracy: 0.6400\n",
      "Epoch 77/115\n",
      "21/21 [==============================] - 17s 795ms/step - loss: 0.2435 - accuracy: 0.7913 - val_loss: 0.3210 - val_accuracy: 0.7000\n",
      "Epoch 78/115\n",
      "21/21 [==============================] - 17s 787ms/step - loss: 0.2581 - accuracy: 0.7864 - val_loss: 0.3212 - val_accuracy: 0.6600\n",
      "Epoch 79/115\n",
      "21/21 [==============================] - 17s 785ms/step - loss: 0.2360 - accuracy: 0.7767 - val_loss: 0.2778 - val_accuracy: 0.6800\n",
      "Epoch 80/115\n",
      "21/21 [==============================] - 16s 798ms/step - loss: 0.2683 - accuracy: 0.7670 - val_loss: 0.3082 - val_accuracy: 0.7200\n",
      "Epoch 81/115\n",
      "21/21 [==============================] - 17s 786ms/step - loss: 0.2615 - accuracy: 0.7621 - val_loss: 0.2845 - val_accuracy: 0.7400\n",
      "Epoch 82/115\n",
      "21/21 [==============================] - 17s 790ms/step - loss: 0.2564 - accuracy: 0.7816 - val_loss: 0.3335 - val_accuracy: 0.7200\n",
      "Epoch 83/115\n",
      "21/21 [==============================] - 17s 791ms/step - loss: 0.2489 - accuracy: 0.7767 - val_loss: 0.3140 - val_accuracy: 0.7400\n",
      "Epoch 84/115\n",
      "21/21 [==============================] - 17s 792ms/step - loss: 0.2541 - accuracy: 0.8010 - val_loss: 0.3220 - val_accuracy: 0.6800\n",
      "Epoch 85/115\n",
      "21/21 [==============================] - 17s 814ms/step - loss: 0.2423 - accuracy: 0.7667 - val_loss: 0.2993 - val_accuracy: 0.6800\n",
      "Epoch 86/115\n",
      "21/21 [==============================] - 16s 785ms/step - loss: 0.2481 - accuracy: 0.7864 - val_loss: 0.2596 - val_accuracy: 0.7200\n",
      "Epoch 87/115\n",
      "21/21 [==============================] - 17s 786ms/step - loss: 0.2390 - accuracy: 0.7767 - val_loss: 0.2769 - val_accuracy: 0.6800\n",
      "Epoch 88/115\n",
      "21/21 [==============================] - 17s 789ms/step - loss: 0.2322 - accuracy: 0.8204 - val_loss: 0.3449 - val_accuracy: 0.6600\n",
      "Epoch 89/115\n",
      "21/21 [==============================] - 17s 789ms/step - loss: 0.2485 - accuracy: 0.7718 - val_loss: 0.3154 - val_accuracy: 0.7000\n",
      "Epoch 90/115\n",
      "21/21 [==============================] - 17s 793ms/step - loss: 0.2644 - accuracy: 0.7524 - val_loss: 0.3531 - val_accuracy: 0.6400\n",
      "Epoch 91/115\n",
      "21/21 [==============================] - 17s 810ms/step - loss: 0.2518 - accuracy: 0.7573 - val_loss: 0.2949 - val_accuracy: 0.6600\n",
      "Epoch 92/115\n",
      "21/21 [==============================] - 17s 789ms/step - loss: 0.2370 - accuracy: 0.7864 - val_loss: 0.2924 - val_accuracy: 0.6400\n",
      "Epoch 93/115\n",
      "21/21 [==============================] - 17s 789ms/step - loss: 0.2412 - accuracy: 0.7573 - val_loss: 0.2843 - val_accuracy: 0.7000\n",
      "Epoch 94/115\n",
      "21/21 [==============================] - 17s 788ms/step - loss: 0.2600 - accuracy: 0.7427 - val_loss: 0.2872 - val_accuracy: 0.6800\n",
      "Epoch 95/115\n",
      "21/21 [==============================] - 17s 816ms/step - loss: 0.2518 - accuracy: 0.7816 - val_loss: 0.3305 - val_accuracy: 0.6400\n",
      "Epoch 96/115\n",
      "21/21 [==============================] - 17s 786ms/step - loss: 0.2264 - accuracy: 0.8010 - val_loss: 0.3109 - val_accuracy: 0.7200\n",
      "Epoch 97/115\n",
      "21/21 [==============================] - 16s 777ms/step - loss: 0.2450 - accuracy: 0.7767 - val_loss: 0.2951 - val_accuracy: 0.7200\n",
      "Epoch 98/115\n",
      "21/21 [==============================] - 17s 789ms/step - loss: 0.2528 - accuracy: 0.7767 - val_loss: 0.2913 - val_accuracy: 0.6600\n",
      "Epoch 99/115\n",
      "21/21 [==============================] - 17s 824ms/step - loss: 0.2348 - accuracy: 0.7913 - val_loss: 0.2924 - val_accuracy: 0.6600\n",
      "Epoch 100/115\n",
      "21/21 [==============================] - 17s 817ms/step - loss: 0.2278 - accuracy: 0.7913 - val_loss: 0.3180 - val_accuracy: 0.7000\n",
      "Epoch 101/115\n",
      "21/21 [==============================] - 17s 796ms/step - loss: 0.2411 - accuracy: 0.7913 - val_loss: 0.3452 - val_accuracy: 0.6800\n",
      "Epoch 102/115\n",
      "21/21 [==============================] - 17s 790ms/step - loss: 0.2556 - accuracy: 0.7476 - val_loss: 0.3322 - val_accuracy: 0.6600\n",
      "Epoch 103/115\n",
      "21/21 [==============================] - 17s 820ms/step - loss: 0.2624 - accuracy: 0.7427 - val_loss: 0.3292 - val_accuracy: 0.7000\n",
      "Epoch 104/115\n",
      "21/21 [==============================] - 17s 797ms/step - loss: 0.2334 - accuracy: 0.7913 - val_loss: 0.3250 - val_accuracy: 0.6400\n",
      "Epoch 105/115\n",
      "21/21 [==============================] - 17s 793ms/step - loss: 0.2278 - accuracy: 0.8155 - val_loss: 0.3099 - val_accuracy: 0.6400\n",
      "Epoch 106/115\n",
      "21/21 [==============================] - 17s 790ms/step - loss: 0.2028 - accuracy: 0.8447 - val_loss: 0.3507 - val_accuracy: 0.7000\n",
      "Epoch 107/115\n",
      "21/21 [==============================] - 17s 787ms/step - loss: 0.2607 - accuracy: 0.7864 - val_loss: 0.3501 - val_accuracy: 0.6800\n",
      "Epoch 108/115\n",
      "21/21 [==============================] - 17s 791ms/step - loss: 0.2258 - accuracy: 0.7864 - val_loss: 0.2652 - val_accuracy: 0.7200\n",
      "Epoch 109/115\n",
      "21/21 [==============================] - 17s 787ms/step - loss: 0.2396 - accuracy: 0.7816 - val_loss: 0.3425 - val_accuracy: 0.6600\n",
      "Epoch 110/115\n",
      "21/21 [==============================] - 17s 797ms/step - loss: 0.2355 - accuracy: 0.7961 - val_loss: 0.3151 - val_accuracy: 0.6800\n",
      "Epoch 111/115\n",
      "21/21 [==============================] - 17s 797ms/step - loss: 0.2388 - accuracy: 0.7961 - val_loss: 0.3310 - val_accuracy: 0.7400\n",
      "Epoch 112/115\n",
      "21/21 [==============================] - 17s 799ms/step - loss: 0.2296 - accuracy: 0.8204 - val_loss: 0.3125 - val_accuracy: 0.7400\n",
      "Epoch 113/115\n",
      "21/21 [==============================] - 17s 791ms/step - loss: 0.2445 - accuracy: 0.7670 - val_loss: 0.3343 - val_accuracy: 0.6600\n",
      "Epoch 114/115\n",
      "21/21 [==============================] - 17s 794ms/step - loss: 0.2163 - accuracy: 0.8204 - val_loss: 0.3131 - val_accuracy: 0.7000\n",
      "Epoch 115/115\n",
      "21/21 [==============================] - 17s 789ms/step - loss: 0.2515 - accuracy: 0.7816 - val_loss: 0.2719 - val_accuracy: 0.8000\n"
     ]
    }
   ],
   "source": [
    "\n",
    "print(len(train_batches))\n",
    "print(len(valid_batches))\n",
    "\n",
    "STEP_SIZE_TRAIN=train_batches.n//train_batches.batch_size\n",
    "STEP_SIZE_VALID=valid_batches.n//valid_batches.batch_size\n",
    "\n",
    "history = model.fit_generator(steps_per_epoch = STEP_SIZE_TRAIN, generator = train_batches, validation_data = valid_batches, validation_steps = STEP_SIZE_VALID, epochs=115\n",
    ")\n"
   ]
  },
  {
   "cell_type": "markdown",
   "metadata": {
    "nbpresent": {
     "id": "66140980-2aa4-457f-b1df-74c10c234cc2"
    }
   },
   "source": [
    "#### [5 points] Plot Accuracy and Loss During Training"
   ]
  },
  {
   "cell_type": "code",
   "execution_count": 6,
   "metadata": {
    "nbpresent": {
     "id": "ff342098-784a-4e20-ac34-b74ca8ebe839"
    }
   },
   "outputs": [
    {
     "data": {
      "image/png": "[encoded data removed]",
      "text/plain": [
       "<Figure size 432x288 with 1 Axes>"
      ]
     },
     "metadata": {
      "needs_background": "light"
     },
     "output_type": "display_data"
    },
    {
     "data": {
      "image/png": "[encoded data removed]",
      "text/plain": [
       "<Figure size 432x288 with 1 Axes>"
      ]
     },
     "metadata": {
      "needs_background": "light"
     },
     "output_type": "display_data"
    }
   ],
   "source": [
    "import matplotlib.pyplot as plt\n",
    "\n",
    "plt.plot(history.history['accuracy'])\n",
    "plt.plot(history.history['val_accuracy'])\n",
    "plt.title('model accuracy')\n",
    "plt.ylabel('accuracy')\n",
    "plt.xlabel('epoch')\n",
    "plt.legend(['train', 'test'], loc='upper left')\n",
    "plt.show()\n",
    "\n",
    "\n",
    "plt.plot(history.history['loss'])\n",
    "plt.plot(history.history['val_loss'])\n",
    "plt.title('model loss')\n",
    "plt.ylabel('loss')\n",
    "plt.xlabel('epoch')\n",
    "plt.legend(['train', 'test'], loc='upper left')\n",
    "plt.show()"
   ]
  },
  {
   "cell_type": "markdown",
   "metadata": {
    "nbpresent": {
     "id": "66140980-2aa4-457f-b1df-74c10c234cc2"
    }
   },
   "source": [
    "#### Testing Model"
   ]
  },
  {
   "cell_type": "code",
   "execution_count": 7,
   "metadata": {},
   "outputs": [
    {
     "name": "stdout",
     "output_type": "stream",
     "text": [
      "Found 36 images belonging to 4 classes.\n",
      "36\n",
      " 2/36 [>.............................] - ETA: 2s - loss: 1.3187 - accuracy: 0.5000    "
     ]
    },
    {
     "name": "stderr",
     "output_type": "stream",
     "text": [
      "C:\\Users\\kpete\\AppData\\Local\\Temp/ipykernel_14888/463003407.py:7: UserWarning: `Model.evaluate_generator` is deprecated and will be removed in a future version. Please use `Model.evaluate`, which supports generators.\n",
      "  x = model.evaluate_generator(eval_generator,steps = np.ceil(len(eval_generator)),\n"
     ]
    },
    {
     "name": "stdout",
     "output_type": "stream",
     "text": [
      "36/36 [==============================] - 3s 80ms/step - loss: 0.3132 - accuracy: 0.7222\n",
      "Test loss: 0.3131543695926666\n",
      "Test accuracy: 0.7222222089767456\n"
     ]
    }
   ],
   "source": [
    "test_datagen = ImageDataGenerator(rescale=1. / 255)\n",
    "\n",
    "eval_generator = test_datagen.flow_from_directory(TEST_DIR,target_size=IMAGE_SIZE,\n",
    "                                                  batch_size=1,shuffle=True,seed=42,class_mode=\"categorical\")\n",
    "eval_generator.reset()\n",
    "print(len(eval_generator))\n",
    "x = model.evaluate_generator(eval_generator,steps = np.ceil(len(eval_generator)),\n",
    "                           use_multiprocessing = False,verbose = 1,workers=1)\n",
    "print('Test loss:' , x[0])\n",
    "print('Test accuracy:',x[1])"
   ]
  },
  {
   "cell_type": "markdown",
   "metadata": {
    "nbpresent": {
     "id": "66140980-2aa4-457f-b1df-74c10c234cc2"
    }
   },
   "source": [
    "## [10 points] TSNE Plot\n",
    "t-Distributed Stochastic Neighbor Embedding (t-SNE) is a widely used technique for dimensionality reduction that is particularly well suited for the visualization of high-dimensional datasets. After training is complete, extract features from a specific deep layer of your choice, use t-SNE to reduce the dimensionality of your extracted features to 2 dimensions and plot the resulting 2D features."
   ]
  },
  {
   "cell_type": "code",
   "execution_count": 8,
   "metadata": {},
   "outputs": [
    {
     "name": "stdout",
     "output_type": "stream",
     "text": [
      "Found 270 images belonging to 4 classes.\n",
      "{'covid': 0, 'normal': 1, 'pneumonia_bac': 2, 'pneumonia_vir': 3}\n"
     ]
    },
    {
     "name": "stderr",
     "output_type": "stream",
     "text": [
      "C:\\Users\\kpete\\AppData\\Local\\Temp/ipykernel_14888/1148479893.py:13: UserWarning: `Model.predict_generator` is deprecated and will be removed in a future version. Please use `Model.predict`, which supports generators.\n",
      "  a = iLM.predict_generator(tEG, verbose=1)\n"
     ]
    },
    {
     "name": "stdout",
     "output_type": "stream",
     "text": [
      "270/270 [==============================] - 20s 74ms/step\n"
     ]
    },
    {
     "data": {
      "text/plain": [
       "<matplotlib.legend.Legend at 0x1de521aa520>"
      ]
     },
     "execution_count": 8,
     "metadata": {},
     "output_type": "execute_result"
    },
    {
     "data": {
      "image/png": "[encoded data removed]",
      "text/plain": [
       "<Figure size 432x288 with 1 Axes>"
      ]
     },
     "metadata": {
      "needs_background": "light"
     },
     "output_type": "display_data"
    }
   ],
   "source": [
    "from sklearn.manifold import TSNE\n",
    "\n",
    "iLM = tf.keras.models.Model(inputs=model.input, outputs=model.get_layer('feature_dense').output)\n",
    "\n",
    "tEG = test_datagen.flow_from_directory(DATASET_PATH,target_size=IMAGE_SIZE, batch_size=1,shuffle=False,seed=42,class_mode=\"categorical\")\n",
    "\n",
    "tEG.reset()\n",
    "\n",
    "classifications = tEG.classes\n",
    "\n",
    "print(tEG.class_indices)\n",
    "\n",
    "a = iLM.predict_generator(tEG, verbose=1)\n",
    "\n",
    "a2 = TSNE().fit_transform(a)\n",
    "\n",
    "legend = [\"COVID-19\", \"Normal\", \"pneumonia_bac\", \"pneumonia_vir\"]\n",
    "\n",
    "plt.title('VGG16')\n",
    "for i in range(4):\n",
    "    clusters = a2[np.where(i==classifications)]\n",
    "    plt.scatter(clusters[:, 0], clusters[:, 1], label = legend[i])\n",
    "    \n",
    "plt.legend()\n",
    "\n"
   ]
  },
  {
   "cell_type": "markdown",
   "metadata": {},
   "source": [
    "<!-- ## Task 2: COVID-19 vs Normal vs Tertiary Pneumonia (Bacterial and Viral) -->"
   ]
  },
  {
   "cell_type": "code",
   "execution_count": 9,
   "metadata": {
    "nbpresent": {
     "id": "66140980-2aa4-457f-b1df-74c10c234cc2"
    }
   },
   "outputs": [
    {
     "name": "stdout",
     "output_type": "stream",
     "text": [
      "Model: \"sequential_1\"\n",
      "_________________________________________________________________\n",
      " Layer (type)                Output Shape              Param #   \n",
      "=================================================================\n",
      " conv2d (Conv2D)             (None, 54, 54, 96)        34944     \n",
      "                                                                 \n",
      " max_pooling2d (MaxPooling2D  (None, 27, 27, 96)       0         \n",
      " )                                                               \n",
      "                                                                 \n",
      " conv2d_1 (Conv2D)           (None, 17, 17, 256)       2973952   \n",
      "                                                                 \n",
      " max_pooling2d_1 (MaxPooling  (None, 8, 8, 256)        0         \n",
      " 2D)                                                             \n",
      "                                                                 \n",
      " conv2d_2 (Conv2D)           (None, 6, 6, 384)         885120    \n",
      "                                                                 \n",
      " conv2d_3 (Conv2D)           (None, 4, 4, 384)         1327488   \n",
      "                                                                 \n",
      " conv2d_4 (Conv2D)           (None, 2, 2, 256)         884992    \n",
      "                                                                 \n",
      " max_pooling2d_2 (MaxPooling  (None, 1, 1, 256)        0         \n",
      " 2D)                                                             \n",
      "                                                                 \n",
      " flatten_1 (Flatten)         (None, 256)               0         \n",
      "                                                                 \n",
      " feature_dense (Dense)       (None, 256)               65792     \n",
      "                                                                 \n",
      " dropout (Dropout)           (None, 256)               0         \n",
      "                                                                 \n",
      " dense (Dense)               (None, 4096)              1052672   \n",
      "                                                                 \n",
      " dropout_1 (Dropout)         (None, 4096)              0         \n",
      "                                                                 \n",
      " dense_1 (Dense)             (None, 1000)              4097000   \n",
      "                                                                 \n",
      " dropout_2 (Dropout)         (None, 1000)              0         \n",
      "                                                                 \n",
      " dense_2 (Dense)             (None, 4)                 4004      \n",
      "                                                                 \n",
      "=================================================================\n",
      "Total params: 11,325,964\n",
      "Trainable params: 11,325,964\n",
      "Non-trainable params: 0\n",
      "_________________________________________________________________\n"
     ]
    }
   ],
   "source": [
    "alexnet = Sequential(\n",
    "    [\n",
    "        \n",
    "        Conv2D(filters=96, input_shape=(224,224,3),kernel_size=(11,11), strides=(4,4), padding='valid', activation='relu'),\n",
    "        MaxPool2D(pool_size=(2,2), strides=(2,2), padding='valid'),\n",
    "        \n",
    "        Conv2D(filters=256, kernel_size=(11,11), strides=(1,1), padding='valid', activation='relu'),\n",
    "        MaxPool2D(pool_size=(2,2), strides=(2,2), padding='valid'),\n",
    "        \n",
    "        Conv2D(filters=384, kernel_size=(3,3), strides=(1,1), padding='valid', activation='relu'),\n",
    "        \n",
    "        Conv2D(filters=384, kernel_size=(3,3), strides=(1,1), padding='valid', activation='relu'),\n",
    "        \n",
    "        Conv2D(filters=256, kernel_size=(3,3), strides=(1,1), padding='valid', activation='relu'),\n",
    "        MaxPool2D(pool_size=(2,2), strides=(2,2), padding='valid'),\n",
    "        \n",
    "        Flatten(),\n",
    "        Dense(256, activation='relu', name='feature_dense'),\n",
    "        \n",
    "        Dropout(.4),\n",
    "        \n",
    "        Dense(4096, activation = 'relu'),\n",
    "        Dropout(.4),\n",
    "        \n",
    "        Dense(1000, activation = 'relu'),\n",
    "        Dropout(.4),\n",
    "        \n",
    "        Dense(4, activation='softmax')\n",
    "    ]\n",
    ")\n",
    "\n",
    "alexnet.summary()\n"
   ]
  },
  {
   "cell_type": "code",
   "execution_count": 11,
   "metadata": {},
   "outputs": [
    {
     "name": "stdout",
     "output_type": "stream",
     "text": [
      "22\n",
      "6\n",
      "Epoch 1/115\n"
     ]
    },
    {
     "name": "stderr",
     "output_type": "stream",
     "text": [
      "C:\\Users\\kpete\\AppData\\Local\\Temp/ipykernel_14888/693659470.py:7: UserWarning: `Model.fit_generator` is deprecated and will be removed in a future version. Please use `Model.fit`, which supports generators.\n",
      "  history = model.fit_generator(steps_per_epoch = STEP_SIZE_TRAIN, generator = train_batches, validation_data = valid_batches, validation_steps = STEP_SIZE_VALID, epochs=115)\n"
     ]
    },
    {
     "name": "stdout",
     "output_type": "stream",
     "text": [
      "21/21 [==============================] - 17s 794ms/step - loss: 0.2179 - accuracy: 0.8155 - val_loss: 0.2627 - val_accuracy: 0.7000\n",
      "Epoch 2/115\n",
      "21/21 [==============================] - 17s 797ms/step - loss: 0.2206 - accuracy: 0.8155 - val_loss: 0.2658 - val_accuracy: 0.7200\n",
      "Epoch 3/115\n",
      "21/21 [==============================] - 17s 794ms/step - loss: 0.2045 - accuracy: 0.8398 - val_loss: 0.2884 - val_accuracy: 0.6800\n",
      "Epoch 4/115\n",
      "21/21 [==============================] - 17s 797ms/step - loss: 0.2082 - accuracy: 0.8350 - val_loss: 0.3265 - val_accuracy: 0.7000\n",
      "Epoch 5/115\n",
      "21/21 [==============================] - 17s 793ms/step - loss: 0.2150 - accuracy: 0.8495 - val_loss: 0.3604 - val_accuracy: 0.6000\n",
      "Epoch 6/115\n",
      "21/21 [==============================] - 17s 798ms/step - loss: 0.2379 - accuracy: 0.7961 - val_loss: 0.3384 - val_accuracy: 0.6000\n",
      "Epoch 7/115\n",
      "21/21 [==============================] - 17s 797ms/step - loss: 0.2345 - accuracy: 0.7767 - val_loss: 0.3383 - val_accuracy: 0.6000\n",
      "Epoch 8/115\n",
      "21/21 [==============================] - 17s 806ms/step - loss: 0.2428 - accuracy: 0.7667 - val_loss: 0.2896 - val_accuracy: 0.7000\n",
      "Epoch 9/115\n",
      "21/21 [==============================] - 16s 784ms/step - loss: 0.2278 - accuracy: 0.8058 - val_loss: 0.2962 - val_accuracy: 0.6800\n",
      "Epoch 10/115\n",
      "21/21 [==============================] - 17s 787ms/step - loss: 0.2234 - accuracy: 0.8204 - val_loss: 0.2749 - val_accuracy: 0.7400\n",
      "Epoch 11/115\n",
      "21/21 [==============================] - 16s 782ms/step - loss: 0.2305 - accuracy: 0.7961 - val_loss: 0.3882 - val_accuracy: 0.5800\n",
      "Epoch 12/115\n",
      "21/21 [==============================] - 17s 796ms/step - loss: 0.2037 - accuracy: 0.8252 - val_loss: 0.2732 - val_accuracy: 0.7000\n",
      "Epoch 13/115\n",
      "21/21 [==============================] - 17s 802ms/step - loss: 0.1979 - accuracy: 0.8447 - val_loss: 0.3195 - val_accuracy: 0.6800\n",
      "Epoch 14/115\n",
      "21/21 [==============================] - 17s 793ms/step - loss: 0.2161 - accuracy: 0.8058 - val_loss: 0.2649 - val_accuracy: 0.7600\n",
      "Epoch 15/115\n",
      "21/21 [==============================] - 17s 804ms/step - loss: 0.2243 - accuracy: 0.8058 - val_loss: 0.2823 - val_accuracy: 0.7000\n",
      "Epoch 16/115\n",
      "21/21 [==============================] - 17s 792ms/step - loss: 0.2148 - accuracy: 0.8058 - val_loss: 0.3037 - val_accuracy: 0.6800\n",
      "Epoch 17/115\n",
      "21/21 [==============================] - 17s 789ms/step - loss: 0.2149 - accuracy: 0.8107 - val_loss: 0.3154 - val_accuracy: 0.6800\n",
      "Epoch 18/115\n",
      "21/21 [==============================] - 17s 802ms/step - loss: 0.2290 - accuracy: 0.7913 - val_loss: 0.3005 - val_accuracy: 0.7000\n",
      "Epoch 19/115\n",
      "21/21 [==============================] - 17s 801ms/step - loss: 0.2456 - accuracy: 0.7476 - val_loss: 0.2929 - val_accuracy: 0.6800\n",
      "Epoch 20/115\n",
      "21/21 [==============================] - 17s 822ms/step - loss: 0.1959 - accuracy: 0.8010 - val_loss: 0.3274 - val_accuracy: 0.7200\n",
      "Epoch 21/115\n",
      "21/21 [==============================] - 17s 833ms/step - loss: 0.2063 - accuracy: 0.8107 - val_loss: 0.3296 - val_accuracy: 0.6800\n",
      "Epoch 22/115\n",
      "21/21 [==============================] - 17s 808ms/step - loss: 0.2416 - accuracy: 0.8155 - val_loss: 0.3301 - val_accuracy: 0.6600\n",
      "Epoch 23/115\n",
      "21/21 [==============================] - 17s 823ms/step - loss: 0.2100 - accuracy: 0.8010 - val_loss: 0.2559 - val_accuracy: 0.7800\n",
      "Epoch 24/115\n",
      "21/21 [==============================] - 17s 796ms/step - loss: 0.2130 - accuracy: 0.8204 - val_loss: 0.2878 - val_accuracy: 0.7000\n",
      "Epoch 25/115\n",
      "21/21 [==============================] - 17s 794ms/step - loss: 0.2131 - accuracy: 0.8204 - val_loss: 0.3743 - val_accuracy: 0.6600\n",
      "Epoch 26/115\n",
      "21/21 [==============================] - 17s 798ms/step - loss: 0.2341 - accuracy: 0.8058 - val_loss: 0.3105 - val_accuracy: 0.6200\n",
      "Epoch 27/115\n",
      "21/21 [==============================] - 17s 794ms/step - loss: 0.2159 - accuracy: 0.8058 - val_loss: 0.2986 - val_accuracy: 0.7000\n",
      "Epoch 28/115\n",
      "21/21 [==============================] - 17s 790ms/step - loss: 0.1974 - accuracy: 0.8204 - val_loss: 0.3351 - val_accuracy: 0.6800\n",
      "Epoch 29/115\n",
      "21/21 [==============================] - 17s 785ms/step - loss: 0.2238 - accuracy: 0.7913 - val_loss: 0.2895 - val_accuracy: 0.6800\n",
      "Epoch 30/115\n",
      "21/21 [==============================] - 17s 802ms/step - loss: 0.2188 - accuracy: 0.7864 - val_loss: 0.3218 - val_accuracy: 0.7000\n",
      "Epoch 31/115\n",
      "21/21 [==============================] - 17s 804ms/step - loss: 0.2047 - accuracy: 0.8350 - val_loss: 0.2772 - val_accuracy: 0.6800\n",
      "Epoch 32/115\n",
      "21/21 [==============================] - 17s 799ms/step - loss: 0.2237 - accuracy: 0.7961 - val_loss: 0.2809 - val_accuracy: 0.7200\n",
      "Epoch 33/115\n",
      "21/21 [==============================] - 17s 812ms/step - loss: 0.2137 - accuracy: 0.7961 - val_loss: 0.2765 - val_accuracy: 0.7200\n",
      "Epoch 34/115\n",
      "21/21 [==============================] - 17s 793ms/step - loss: 0.2129 - accuracy: 0.8058 - val_loss: 0.4364 - val_accuracy: 0.5800\n",
      "Epoch 35/115\n",
      "21/21 [==============================] - 17s 796ms/step - loss: 0.2109 - accuracy: 0.8058 - val_loss: 0.3088 - val_accuracy: 0.7600\n",
      "Epoch 36/115\n",
      "21/21 [==============================] - 17s 805ms/step - loss: 0.2067 - accuracy: 0.8204 - val_loss: 0.3292 - val_accuracy: 0.6400\n",
      "Epoch 37/115\n",
      "21/21 [==============================] - 17s 792ms/step - loss: 0.2280 - accuracy: 0.7816 - val_loss: 0.3863 - val_accuracy: 0.6400\n",
      "Epoch 38/115\n",
      "21/21 [==============================] - 17s 808ms/step - loss: 0.1974 - accuracy: 0.8398 - val_loss: 0.3556 - val_accuracy: 0.7000\n",
      "Epoch 39/115\n",
      "21/21 [==============================] - 17s 789ms/step - loss: 0.2061 - accuracy: 0.7961 - val_loss: 0.3782 - val_accuracy: 0.6600\n",
      "Epoch 40/115\n",
      "21/21 [==============================] - 16s 798ms/step - loss: 0.2101 - accuracy: 0.8252 - val_loss: 0.3006 - val_accuracy: 0.7000\n",
      "Epoch 41/115\n",
      "21/21 [==============================] - 17s 796ms/step - loss: 0.2033 - accuracy: 0.8447 - val_loss: 0.2702 - val_accuracy: 0.8200\n",
      "Epoch 42/115\n",
      "21/21 [==============================] - 17s 803ms/step - loss: 0.2120 - accuracy: 0.8058 - val_loss: 0.2749 - val_accuracy: 0.7400\n",
      "Epoch 43/115\n",
      "21/21 [==============================] - 17s 792ms/step - loss: 0.1936 - accuracy: 0.8301 - val_loss: 0.2798 - val_accuracy: 0.7600\n",
      "Epoch 44/115\n",
      "21/21 [==============================] - 17s 797ms/step - loss: 0.1972 - accuracy: 0.8350 - val_loss: 0.2703 - val_accuracy: 0.7000\n",
      "Epoch 45/115\n",
      "21/21 [==============================] - 17s 791ms/step - loss: 0.1908 - accuracy: 0.8398 - val_loss: 0.2435 - val_accuracy: 0.7400\n",
      "Epoch 46/115\n",
      "21/21 [==============================] - 17s 787ms/step - loss: 0.2036 - accuracy: 0.8350 - val_loss: 0.2515 - val_accuracy: 0.7400\n",
      "Epoch 47/115\n",
      "21/21 [==============================] - 17s 795ms/step - loss: 0.2130 - accuracy: 0.8204 - val_loss: 0.3026 - val_accuracy: 0.7400\n",
      "Epoch 48/115\n",
      "21/21 [==============================] - 17s 816ms/step - loss: 0.2009 - accuracy: 0.8398 - val_loss: 0.2656 - val_accuracy: 0.7600\n",
      "Epoch 49/115\n",
      "21/21 [==============================] - 17s 793ms/step - loss: 0.2033 - accuracy: 0.8010 - val_loss: 0.3232 - val_accuracy: 0.6600\n",
      "Epoch 50/115\n",
      "21/21 [==============================] - 17s 792ms/step - loss: 0.1897 - accuracy: 0.8350 - val_loss: 0.2956 - val_accuracy: 0.7400\n",
      "Epoch 51/115\n",
      "21/21 [==============================] - 18s 862ms/step - loss: 0.2122 - accuracy: 0.8252 - val_loss: 0.2601 - val_accuracy: 0.7600\n",
      "Epoch 52/115\n",
      "21/21 [==============================] - 18s 863ms/step - loss: 0.1758 - accuracy: 0.8447 - val_loss: 0.3033 - val_accuracy: 0.6600\n",
      "Epoch 53/115\n",
      "21/21 [==============================] - 18s 839ms/step - loss: 0.2002 - accuracy: 0.8155 - val_loss: 0.3192 - val_accuracy: 0.7400\n",
      "Epoch 54/115\n",
      "21/21 [==============================] - 17s 824ms/step - loss: 0.2271 - accuracy: 0.7864 - val_loss: 0.3218 - val_accuracy: 0.6600\n",
      "Epoch 55/115\n",
      "21/21 [==============================] - 19s 890ms/step - loss: 0.2082 - accuracy: 0.7913 - val_loss: 0.2841 - val_accuracy: 0.7200\n",
      "Epoch 56/115\n",
      "21/21 [==============================] - 18s 833ms/step - loss: 0.2014 - accuracy: 0.8301 - val_loss: 0.3078 - val_accuracy: 0.7400\n",
      "Epoch 57/115\n",
      "21/21 [==============================] - 18s 842ms/step - loss: 0.2198 - accuracy: 0.8058 - val_loss: 0.4072 - val_accuracy: 0.6400\n",
      "Epoch 58/115\n",
      "21/21 [==============================] - 18s 843ms/step - loss: 0.1867 - accuracy: 0.8398 - val_loss: 0.2677 - val_accuracy: 0.6800\n",
      "Epoch 59/115\n",
      "21/21 [==============================] - 18s 863ms/step - loss: 0.2008 - accuracy: 0.8155 - val_loss: 0.3414 - val_accuracy: 0.6000\n",
      "Epoch 60/115\n",
      "21/21 [==============================] - 18s 835ms/step - loss: 0.1970 - accuracy: 0.8398 - val_loss: 0.3365 - val_accuracy: 0.6400\n",
      "Epoch 61/115\n",
      "21/21 [==============================] - 18s 838ms/step - loss: 0.2195 - accuracy: 0.8010 - val_loss: 0.3054 - val_accuracy: 0.7000\n",
      "Epoch 62/115\n",
      "21/21 [==============================] - 17s 829ms/step - loss: 0.1907 - accuracy: 0.8447 - val_loss: 0.2831 - val_accuracy: 0.7200\n",
      "Epoch 63/115\n",
      "21/21 [==============================] - 18s 853ms/step - loss: 0.2088 - accuracy: 0.8350 - val_loss: 0.2864 - val_accuracy: 0.7400\n",
      "Epoch 64/115\n",
      "21/21 [==============================] - 18s 834ms/step - loss: 0.1944 - accuracy: 0.8204 - val_loss: 0.3103 - val_accuracy: 0.6600\n",
      "Epoch 65/115\n",
      "21/21 [==============================] - 18s 837ms/step - loss: 0.1989 - accuracy: 0.8350 - val_loss: 0.2831 - val_accuracy: 0.7200\n",
      "Epoch 66/115\n",
      "21/21 [==============================] - 18s 845ms/step - loss: 0.1957 - accuracy: 0.8398 - val_loss: 0.3062 - val_accuracy: 0.6600\n",
      "Epoch 67/115\n",
      "21/21 [==============================] - 18s 844ms/step - loss: 0.1904 - accuracy: 0.8447 - val_loss: 0.3005 - val_accuracy: 0.7400\n",
      "Epoch 68/115\n",
      "21/21 [==============================] - 18s 835ms/step - loss: 0.1784 - accuracy: 0.8495 - val_loss: 0.3242 - val_accuracy: 0.6000\n",
      "Epoch 69/115\n",
      "21/21 [==============================] - 18s 890ms/step - loss: 0.1676 - accuracy: 0.8932 - val_loss: 0.3015 - val_accuracy: 0.7200\n",
      "Epoch 70/115\n",
      "21/21 [==============================] - 19s 889ms/step - loss: 0.1894 - accuracy: 0.8398 - val_loss: 0.2844 - val_accuracy: 0.8000\n",
      "Epoch 71/115\n",
      "21/21 [==============================] - 18s 845ms/step - loss: 0.2100 - accuracy: 0.7913 - val_loss: 0.2580 - val_accuracy: 0.7400\n",
      "Epoch 72/115\n",
      "21/21 [==============================] - 19s 883ms/step - loss: 0.1925 - accuracy: 0.8350 - val_loss: 0.3726 - val_accuracy: 0.6200\n",
      "Epoch 73/115\n",
      "21/21 [==============================] - 17s 821ms/step - loss: 0.1814 - accuracy: 0.8544 - val_loss: 0.3116 - val_accuracy: 0.6600\n",
      "Epoch 74/115\n",
      "21/21 [==============================] - 17s 788ms/step - loss: 0.1914 - accuracy: 0.8398 - val_loss: 0.2560 - val_accuracy: 0.7200\n",
      "Epoch 75/115\n",
      "21/21 [==============================] - 16s 770ms/step - loss: 0.1977 - accuracy: 0.8107 - val_loss: 0.3256 - val_accuracy: 0.7000\n",
      "Epoch 76/115\n",
      "21/21 [==============================] - 16s 773ms/step - loss: 0.1929 - accuracy: 0.8398 - val_loss: 0.3462 - val_accuracy: 0.7000\n",
      "Epoch 77/115\n",
      "21/21 [==============================] - 16s 788ms/step - loss: 0.2129 - accuracy: 0.8155 - val_loss: 0.2619 - val_accuracy: 0.7400\n",
      "Epoch 78/115\n",
      "21/21 [==============================] - 16s 782ms/step - loss: 0.1831 - accuracy: 0.8429 - val_loss: 0.2914 - val_accuracy: 0.7200\n",
      "Epoch 79/115\n",
      "21/21 [==============================] - 16s 781ms/step - loss: 0.1884 - accuracy: 0.8641 - val_loss: 0.2658 - val_accuracy: 0.7400\n",
      "Epoch 80/115\n",
      "21/21 [==============================] - 17s 814ms/step - loss: 0.1941 - accuracy: 0.8544 - val_loss: 0.2880 - val_accuracy: 0.7000\n",
      "Epoch 81/115\n",
      "21/21 [==============================] - 17s 808ms/step - loss: 0.1848 - accuracy: 0.8641 - val_loss: 0.3156 - val_accuracy: 0.6800\n",
      "Epoch 82/115\n",
      "21/21 [==============================] - 17s 807ms/step - loss: 0.1969 - accuracy: 0.7913 - val_loss: 0.2906 - val_accuracy: 0.6600\n",
      "Epoch 83/115\n",
      "21/21 [==============================] - 17s 781ms/step - loss: 0.1854 - accuracy: 0.8301 - val_loss: 0.2512 - val_accuracy: 0.7200\n",
      "Epoch 84/115\n",
      "21/21 [==============================] - 17s 797ms/step - loss: 0.1688 - accuracy: 0.8738 - val_loss: 0.3427 - val_accuracy: 0.7400\n",
      "Epoch 85/115\n",
      "21/21 [==============================] - 16s 788ms/step - loss: 0.1913 - accuracy: 0.8544 - val_loss: 0.3323 - val_accuracy: 0.6800\n",
      "Epoch 86/115\n",
      "21/21 [==============================] - 16s 773ms/step - loss: 0.1832 - accuracy: 0.8689 - val_loss: 0.2930 - val_accuracy: 0.7000\n",
      "Epoch 87/115\n",
      "21/21 [==============================] - 16s 779ms/step - loss: 0.2055 - accuracy: 0.8155 - val_loss: 0.3350 - val_accuracy: 0.7200\n",
      "Epoch 88/115\n",
      "21/21 [==============================] - 16s 793ms/step - loss: 0.2028 - accuracy: 0.8155 - val_loss: 0.3026 - val_accuracy: 0.7600\n",
      "Epoch 89/115\n",
      "21/21 [==============================] - 16s 774ms/step - loss: 0.2059 - accuracy: 0.8398 - val_loss: 0.2685 - val_accuracy: 0.7000\n",
      "Epoch 90/115\n",
      "21/21 [==============================] - 17s 790ms/step - loss: 0.2097 - accuracy: 0.7913 - val_loss: 0.2994 - val_accuracy: 0.6800\n",
      "Epoch 91/115\n",
      "21/21 [==============================] - 16s 779ms/step - loss: 0.1841 - accuracy: 0.8641 - val_loss: 0.3182 - val_accuracy: 0.7400\n",
      "Epoch 92/115\n",
      "21/21 [==============================] - 16s 774ms/step - loss: 0.2074 - accuracy: 0.8350 - val_loss: 0.2835 - val_accuracy: 0.7000\n",
      "Epoch 93/115\n",
      "21/21 [==============================] - 16s 779ms/step - loss: 0.1865 - accuracy: 0.8592 - val_loss: 0.2735 - val_accuracy: 0.7800\n",
      "Epoch 94/115\n",
      "21/21 [==============================] - 16s 777ms/step - loss: 0.1863 - accuracy: 0.8592 - val_loss: 0.4025 - val_accuracy: 0.6000\n",
      "Epoch 95/115\n",
      "21/21 [==============================] - 17s 786ms/step - loss: 0.2004 - accuracy: 0.8301 - val_loss: 0.2630 - val_accuracy: 0.7800\n",
      "Epoch 96/115\n",
      "21/21 [==============================] - 16s 771ms/step - loss: 0.1730 - accuracy: 0.8932 - val_loss: 0.3125 - val_accuracy: 0.6800\n",
      "Epoch 97/115\n",
      "21/21 [==============================] - 16s 783ms/step - loss: 0.1989 - accuracy: 0.8252 - val_loss: 0.2964 - val_accuracy: 0.7200\n",
      "Epoch 98/115\n",
      "21/21 [==============================] - 16s 775ms/step - loss: 0.1831 - accuracy: 0.8398 - val_loss: 0.3055 - val_accuracy: 0.6600\n",
      "Epoch 99/115\n",
      "21/21 [==============================] - 16s 777ms/step - loss: 0.1781 - accuracy: 0.8592 - val_loss: 0.2840 - val_accuracy: 0.6800\n",
      "Epoch 100/115\n",
      "21/21 [==============================] - 16s 781ms/step - loss: 0.1845 - accuracy: 0.8689 - val_loss: 0.4263 - val_accuracy: 0.6200\n",
      "Epoch 101/115\n",
      "21/21 [==============================] - 17s 785ms/step - loss: 0.1579 - accuracy: 0.8495 - val_loss: 0.3365 - val_accuracy: 0.6600\n",
      "Epoch 102/115\n",
      "21/21 [==============================] - 16s 771ms/step - loss: 0.1977 - accuracy: 0.8107 - val_loss: 0.2772 - val_accuracy: 0.7800\n",
      "Epoch 103/115\n",
      "21/21 [==============================] - 16s 774ms/step - loss: 0.1899 - accuracy: 0.8447 - val_loss: 0.2357 - val_accuracy: 0.7800\n",
      "Epoch 104/115\n",
      "21/21 [==============================] - 16s 780ms/step - loss: 0.1818 - accuracy: 0.8883 - val_loss: 0.3326 - val_accuracy: 0.7000\n",
      "Epoch 105/115\n",
      "21/21 [==============================] - 17s 785ms/step - loss: 0.1871 - accuracy: 0.8429 - val_loss: 0.2939 - val_accuracy: 0.7400\n",
      "Epoch 106/115\n",
      "21/21 [==============================] - 17s 786ms/step - loss: 0.1765 - accuracy: 0.8381 - val_loss: 0.2883 - val_accuracy: 0.6600\n",
      "Epoch 107/115\n",
      "21/21 [==============================] - 16s 776ms/step - loss: 0.2038 - accuracy: 0.8010 - val_loss: 0.2554 - val_accuracy: 0.7600\n",
      "Epoch 108/115\n",
      "21/21 [==============================] - 17s 788ms/step - loss: 0.1918 - accuracy: 0.8398 - val_loss: 0.2704 - val_accuracy: 0.6800\n",
      "Epoch 109/115\n",
      "21/21 [==============================] - 16s 780ms/step - loss: 0.2038 - accuracy: 0.8204 - val_loss: 0.3013 - val_accuracy: 0.6800\n",
      "Epoch 110/115\n",
      "21/21 [==============================] - 16s 792ms/step - loss: 0.1829 - accuracy: 0.8544 - val_loss: 0.2817 - val_accuracy: 0.7000\n",
      "Epoch 111/115\n",
      "21/21 [==============================] - 16s 781ms/step - loss: 0.1774 - accuracy: 0.8738 - val_loss: 0.3330 - val_accuracy: 0.6600\n",
      "Epoch 112/115\n",
      "21/21 [==============================] - 16s 771ms/step - loss: 0.1913 - accuracy: 0.8010 - val_loss: 0.2717 - val_accuracy: 0.7000\n",
      "Epoch 113/115\n"
     ]
    },
    {
     "name": "stdout",
     "output_type": "stream",
     "text": [
      "21/21 [==============================] - 16s 770ms/step - loss: 0.1919 - accuracy: 0.8107 - val_loss: 0.2948 - val_accuracy: 0.7400\n",
      "Epoch 114/115\n",
      "21/21 [==============================] - 16s 772ms/step - loss: 0.1749 - accuracy: 0.8738 - val_loss: 0.3351 - val_accuracy: 0.7000\n",
      "Epoch 115/115\n",
      "21/21 [==============================] - 16s 773ms/step - loss: 0.1831 - accuracy: 0.8301 - val_loss: 0.3377 - val_accuracy: 0.6800\n"
     ]
    }
   ],
   "source": [
    "print(len(train_batches))\n",
    "print(len(valid_batches))\n",
    "\n",
    "STEP_SIZE_TRAIN=train_batches.n//train_batches.batch_size\n",
    "STEP_SIZE_VALID=valid_batches.n//valid_batches.batch_size\n",
    "\n",
    "history = model.fit_generator(steps_per_epoch = STEP_SIZE_TRAIN, generator = train_batches, validation_data = valid_batches, validation_steps = STEP_SIZE_VALID, epochs=115)"
   ]
  },
  {
   "cell_type": "code",
   "execution_count": 12,
   "metadata": {},
   "outputs": [
    {
     "data": {
      "image/png": "[encoded data removed]",
      "text/plain": [
       "<Figure size 432x288 with 1 Axes>"
      ]
     },
     "metadata": {
      "needs_background": "light"
     },
     "output_type": "display_data"
    },
    {
     "data": {
      "image/png": "[encoded data removed]",
      "text/plain": [
       "<Figure size 432x288 with 1 Axes>"
      ]
     },
     "metadata": {
      "needs_background": "light"
     },
     "output_type": "display_data"
    }
   ],
   "source": [
    "import matplotlib.pyplot as plt\n",
    "\n",
    "plt.plot(history.history['accuracy'])\n",
    "plt.plot(history.history['val_accuracy'])\n",
    "plt.title('model accuracy')\n",
    "plt.ylabel('accuracy')\n",
    "plt.xlabel('epoch')\n",
    "plt.legend(['train', 'test'], loc='upper left')\n",
    "plt.show()\n",
    "\n",
    "\n",
    "plt.plot(history.history['loss'])\n",
    "plt.plot(history.history['val_loss'])\n",
    "plt.title('model loss')\n",
    "plt.ylabel('loss')\n",
    "plt.xlabel('epoch')\n",
    "plt.legend(['train', 'test'], loc='upper left')\n",
    "plt.show()"
   ]
  },
  {
   "cell_type": "code",
   "execution_count": 15,
   "metadata": {},
   "outputs": [
    {
     "name": "stdout",
     "output_type": "stream",
     "text": [
      "Found 36 images belonging to 4 classes.\n",
      "36\n",
      " 2/36 [>.............................] - ETA: 2s - loss: 2.0855 - accuracy: 0.5000    "
     ]
    },
    {
     "name": "stderr",
     "output_type": "stream",
     "text": [
      "C:\\Users\\kpete\\AppData\\Local\\Temp/ipykernel_14888/463003407.py:7: UserWarning: `Model.evaluate_generator` is deprecated and will be removed in a future version. Please use `Model.evaluate`, which supports generators.\n",
      "  x = model.evaluate_generator(eval_generator,steps = np.ceil(len(eval_generator)),\n"
     ]
    },
    {
     "name": "stdout",
     "output_type": "stream",
     "text": [
      "36/36 [==============================] - 3s 80ms/step - loss: 0.4222 - accuracy: 0.6667\n",
      "Test loss: 0.4221991002559662\n",
      "Test accuracy: 0.6666666865348816\n"
     ]
    }
   ],
   "source": [
    "test_datagen = ImageDataGenerator(rescale=1. / 255)\n",
    "\n",
    "eval_generator = test_datagen.flow_from_directory(TEST_DIR,target_size=IMAGE_SIZE,\n",
    "                                                  batch_size=1,shuffle=True,seed=42,class_mode=\"categorical\")\n",
    "eval_generator.reset()\n",
    "print(len(eval_generator))\n",
    "x = model.evaluate_generator(eval_generator,steps = np.ceil(len(eval_generator)),\n",
    "                           use_multiprocessing = False,verbose = 1,workers=1)\n",
    "print('Test loss:' , x[0])\n",
    "print('Test accuracy:',x[1])"
   ]
  },
  {
   "cell_type": "code",
   "execution_count": 16,
   "metadata": {},
   "outputs": [
    {
     "name": "stdout",
     "output_type": "stream",
     "text": [
      "Found 270 images belonging to 4 classes.\n",
      "{'covid': 0, 'normal': 1, 'pneumonia_bac': 2, 'pneumonia_vir': 3}\n",
      "\r",
      "  1/270 [..............................] - ETA: 46s"
     ]
    },
    {
     "name": "stderr",
     "output_type": "stream",
     "text": [
      "C:\\Users\\kpete\\AppData\\Local\\Temp/ipykernel_14888/1634499548.py:13: UserWarning: `Model.predict_generator` is deprecated and will be removed in a future version. Please use `Model.predict`, which supports generators.\n",
      "  a = iLM.predict_generator(tEG, verbose=1)\n"
     ]
    },
    {
     "name": "stdout",
     "output_type": "stream",
     "text": [
      "270/270 [==============================] - 20s 73ms/step\n"
     ]
    },
    {
     "data": {
      "text/plain": [
       "<matplotlib.legend.Legend at 0x1de59a234c0>"
      ]
     },
     "execution_count": 16,
     "metadata": {},
     "output_type": "execute_result"
    },
    {
     "data": {
      "image/png": "[encoded data removed]",
      "text/plain": [
       "<Figure size 432x288 with 1 Axes>"
      ]
     },
     "metadata": {
      "needs_background": "light"
     },
     "output_type": "display_data"
    }
   ],
   "source": [
    "from sklearn.manifold import TSNE\n",
    "\n",
    "iLM = tf.keras.models.Model(inputs=model.input, outputs=model.get_layer('feature_dense').output)\n",
    "\n",
    "tEG = test_datagen.flow_from_directory(DATASET_PATH,target_size=IMAGE_SIZE, batch_size=1,shuffle=False,seed=42,class_mode=\"categorical\")\n",
    "\n",
    "tEG.reset()\n",
    "\n",
    "classifications = tEG.classes\n",
    "\n",
    "print(tEG.class_indices)\n",
    "\n",
    "a = iLM.predict_generator(tEG, verbose=1)\n",
    "\n",
    "a2 = TSNE().fit_transform(a)\n",
    "\n",
    "legend = [\"COVID-19\", \"Normal\", \"pneumonia_bac\", \"pneumonia_vir\"]\n",
    "\n",
    "plt.title('AlexNet')\n",
    "for i in range(4):\n",
    "    clusters = a2[np.where(i==classifications)]\n",
    "    plt.scatter(clusters[:, 0], clusters[:, 1], label = legend[i])\n",
    "    \n",
    "plt.legend()\n"
   ]
  },
  {
   "cell_type": "code",
   "execution_count": null,
   "metadata": {},
   "outputs": [],
   "source": []
  }
 ],
 "metadata": {
  "kernelspec": {
   "display_name": "Python 3 (ipykernel)",
   "language": "python",
   "name": "python3"
  },
  "language_info": {
   "codemirror_mode": {
    "name": "ipython",
    "version": 3
   },
   "file_extension": ".py",
   "mimetype": "text/x-python",
   "name": "python",
   "nbconvert_exporter": "python",
   "pygments_lexer": "ipython3",
   "version": "3.8.12"
  },
  "latex_envs": {
   "LaTeX_envs_menu_present": true,
   "autoclose": false,
   "autocomplete": true,
   "bibliofile": "biblio.bib",
   "cite_by": "apalike",
   "current_citInitial": 1,
   "eqLabelWithNumbers": true,
   "eqNumInitial": 1,
   "hotkeys": {
    "equation": "Ctrl-E",
    "itemize": "Ctrl-I"
   },
   "labels_anchors": false,
   "latex_user_defs": false,
   "report_style_numbering": false,
   "user_envs_cfg": false
  },
  "toc": {
   "base_numbering": 1,
   "nav_menu": {},
   "number_sections": true,
   "sideBar": true,
   "skip_h1_title": false,
   "title_cell": "Table of Contents",
   "title_sidebar": "Contents",
   "toc_cell": false,
   "toc_position": {},
   "toc_section_display": true,
   "toc_window_display": false
  },
  "varInspector": {
   "cols": {
    "lenName": 16,
    "lenType": 16,
    "lenVar": 40
   },
   "kernels_config": {
    "python": {
     "delete_cmd_postfix": "",
     "delete_cmd_prefix": "del ",
     "library": "var_list.py",
     "varRefreshCmd": "print(var_dic_list())"
    },
    "r": {
     "delete_cmd_postfix": ") ",
     "delete_cmd_prefix": "rm(",
     "library": "var_list.r",
     "varRefreshCmd": "cat(var_dic_list()) "
    }
   },
   "types_to_exclude": [
    "module",
    "function",
    "builtin_function_or_method",
    "instance",
    "_Feature"
   ],
   "window_display": false
  }
 },
 "nbformat": 4,
 "nbformat_minor": 4
}
